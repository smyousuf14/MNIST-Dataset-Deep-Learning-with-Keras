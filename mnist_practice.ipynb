{
  "nbformat": 4,
  "nbformat_minor": 0,
  "metadata": {
    "colab": {
      "name": "mnist-practice.ipynb",
      "provenance": [],
      "collapsed_sections": [],
      "include_colab_link": true
    },
    "kernelspec": {
      "name": "python3",
      "display_name": "Python 3"
    },
    "accelerator": "GPU"
  },
  "cells": [
    {
      "cell_type": "markdown",
      "metadata": {
        "id": "view-in-github",
        "colab_type": "text"
      },
      "source": [
        "<a href=\"https://colab.research.google.com/github/smyousuf14/MNIST-Dataset-Deep-Learning-with-Keras/blob/master/mnist_practice.ipynb\" target=\"_parent\"><img src=\"https://colab.research.google.com/assets/colab-badge.svg\" alt=\"Open In Colab\"/></a>"
      ]
    },
    {
      "cell_type": "code",
      "metadata": {
        "id": "sYI9XIJPsI7x",
        "colab_type": "code",
        "colab": {}
      },
      "source": [
        "#Neccessary imports\n",
        "import tensorflow as tn\n",
        "import matplotlib.pyplot as plt\n",
        "from tensorflow.keras import datasets, layers, models, utils"
      ],
      "execution_count": 0,
      "outputs": []
    },
    {
      "cell_type": "code",
      "metadata": {
        "id": "KOZ37NSq_rDu",
        "colab_type": "code",
        "colab": {
          "base_uri": "https://localhost:8080/",
          "height": 54
        },
        "outputId": "87052efe-5215-45e7-e1aa-457e0feb26a8"
      },
      "source": [
        "#Data cleaning and preprocessing\n",
        "num_classes = 10\n",
        "epouch = 10\n",
        "batch_size = 256\n",
        "\n",
        "#Now import the mnist data\n",
        "mnist_data = datasets.mnist\n",
        "(x_train, y_train), (x_test, y_test) = mnist_data.load_data()\n",
        "\n",
        "num_training_samples = x_train.shape[0]\n",
        "num_testing_samples = x_test.shape[0]\n",
        "\n",
        "# reshape \n",
        "x_train = x_train.reshape(num_training_samples, 28, 28, 1)\n",
        "x_test = x_test.reshape(num_testing_samples, 28, 28, 1)\n",
        "\n",
        "# Normalize the data\n",
        "x_train_normalized = x_train / 255.0\n",
        "x_test_normalized = x_test / 255.0\n",
        "\n",
        "#one hot encode labels\n",
        "y_train_one_hot = utils.to_categorical(y_train)\n",
        "y_test_one_hot = utils.to_categorical(y_test)\n",
        "\n"
      ],
      "execution_count": 3,
      "outputs": [
        {
          "output_type": "stream",
          "text": [
            "Downloading data from https://storage.googleapis.com/tensorflow/tf-keras-datasets/mnist.npz\n",
            "11493376/11490434 [==============================] - 0s 0us/step\n"
          ],
          "name": "stdout"
        }
      ]
    },
    {
      "cell_type": "code",
      "metadata": {
        "id": "WfaxtQRe-o4a",
        "colab_type": "code",
        "colab": {}
      },
      "source": [
        "# build the model\n",
        "model_best = models.Sequential([\n",
        "    layers.Conv2D(120, kernel_size=(3,3), input_shape=(28,28,1), activation=\"relu\"),\n",
        "    layers.Conv2D(64, kernel_size=(3,3), activation=\"relu\"),\n",
        "    layers.MaxPool2D((2,2)),\n",
        "    layers.Dropout(0.2),\n",
        "    layers.Conv2D(32, kernel_size=(3,3), activation=\"relu\"),\n",
        "    layers.Conv2D(32, kernel_size=(3,3), activation=\"relu\"),\n",
        "    layers.MaxPool2D((2,2)),\n",
        "    layers.Dropout(0.2),\n",
        "    layers.Flatten(),\n",
        "    layers.Dense(512, activation=\"relu\"),\n",
        "    layers.Dense(num_classes, activation=\"softmax\"),\n",
        "])\n",
        "\n",
        "model = models.Sequential([\n",
        "    layers.Conv2D(64, kernel_size=(3,3), input_shape=(28,28,1), activation=\"relu\"),\n",
        "    layers.Conv2D(32, kernel_size=(3,3), activation=\"relu\"),\n",
        "    layers.MaxPool2D((2,2)),\n",
        "    layers.Dropout(0.2),\n",
        "    layers.Conv2D(32, kernel_size=(3,3), activation=\"relu\"),\n",
        "    layers.Conv2D(32, kernel_size=(3,3), activation=\"relu\"),\n",
        "    layers.MaxPool2D((2,2)),\n",
        "    layers.Dropout(0.2),\n",
        "    layers.Flatten(),\n",
        "    layers.Dense(512, activation=\"relu\"),\n",
        "    layers.Dense(num_classes, activation=\"softmax\"),\n",
        "])\n",
        "\n",
        "model.compile(loss=\"categorical_crossentropy\", optimizer=\"adam\", metrics=[\"accuracy\"])"
      ],
      "execution_count": 0,
      "outputs": []
    },
    {
      "cell_type": "code",
      "metadata": {
        "id": "2n_jTVvl_rPt",
        "colab_type": "code",
        "colab": {
          "base_uri": "https://localhost:8080/",
          "height": 403
        },
        "outputId": "59b3c05e-3de4-47fa-e34e-ea617dc5524b"
      },
      "source": [
        "#Train the model\n",
        "history = model.fit(x_train_normalized, y_train_one_hot, batch_size = batch_size, epochs = epouch, validation_split=0.1)"
      ],
      "execution_count": 10,
      "outputs": [
        {
          "output_type": "stream",
          "text": [
            "Train on 54000 samples, validate on 6000 samples\n",
            "Epoch 1/10\n",
            "54000/54000 [==============================] - 10s 178us/sample - loss: 0.3073 - acc: 0.9001 - val_loss: 0.0569 - val_acc: 0.9838\n",
            "Epoch 2/10\n",
            "54000/54000 [==============================] - 6s 111us/sample - loss: 0.0689 - acc: 0.9784 - val_loss: 0.0409 - val_acc: 0.9888\n",
            "Epoch 3/10\n",
            "54000/54000 [==============================] - 6s 110us/sample - loss: 0.0486 - acc: 0.9842 - val_loss: 0.0390 - val_acc: 0.9890\n",
            "Epoch 4/10\n",
            "54000/54000 [==============================] - 6s 110us/sample - loss: 0.0376 - acc: 0.9877 - val_loss: 0.0297 - val_acc: 0.9912\n",
            "Epoch 5/10\n",
            "54000/54000 [==============================] - 6s 110us/sample - loss: 0.0328 - acc: 0.9898 - val_loss: 0.0289 - val_acc: 0.9918\n",
            "Epoch 6/10\n",
            "54000/54000 [==============================] - 6s 109us/sample - loss: 0.0268 - acc: 0.9911 - val_loss: 0.0266 - val_acc: 0.9925\n",
            "Epoch 7/10\n",
            "54000/54000 [==============================] - 6s 109us/sample - loss: 0.0250 - acc: 0.9920 - val_loss: 0.0263 - val_acc: 0.9925\n",
            "Epoch 8/10\n",
            "54000/54000 [==============================] - 6s 110us/sample - loss: 0.0222 - acc: 0.9925 - val_loss: 0.0252 - val_acc: 0.9937\n",
            "Epoch 9/10\n",
            "54000/54000 [==============================] - 6s 110us/sample - loss: 0.0205 - acc: 0.9933 - val_loss: 0.0279 - val_acc: 0.9927\n",
            "Epoch 10/10\n",
            "54000/54000 [==============================] - 6s 111us/sample - loss: 0.0180 - acc: 0.9940 - val_loss: 0.0338 - val_acc: 0.9913\n"
          ],
          "name": "stdout"
        }
      ]
    },
    {
      "cell_type": "code",
      "metadata": {
        "id": "QuiTur_mAzYm",
        "colab_type": "code",
        "colab": {}
      },
      "source": [
        "loss = history.history[\"loss\"]\n",
        "acc = history.history[\"acc\"] \n",
        "\n",
        "val_loss = history.history[\"val_loss\"]\n",
        "val_acc = history.history[\"val_acc\"]"
      ],
      "execution_count": 0,
      "outputs": []
    },
    {
      "cell_type": "code",
      "metadata": {
        "id": "PK9M6CjsAWt7",
        "colab_type": "code",
        "colab": {
          "base_uri": "https://localhost:8080/",
          "height": 295
        },
        "outputId": "de2191d8-8ff2-4549-f182-044a72a380b3"
      },
      "source": [
        "#plot the results\n",
        "plt.plot(range(epouch), val_loss)\n",
        "plt.xlabel(\"Epochs\")\n",
        "plt.ylabel(\"Validation Loss\")\n",
        "plt.title(\"Validation Loss\")\n",
        "plt.show()"
      ],
      "execution_count": 13,
      "outputs": [
        {
          "output_type": "display_data",
          "data": {
            "image/png": "[encoded data removed]",
            "text/plain": [
              "<Figure size 432x288 with 1 Axes>"
            ]
          },
          "metadata": {
            "tags": []
          }
        }
      ]
    },
    {
      "cell_type": "code",
      "metadata": {
        "id": "TixovfvBAbI_",
        "colab_type": "code",
        "colab": {
          "base_uri": "https://localhost:8080/",
          "height": 295
        },
        "outputId": "aad700cc-896a-49a7-a130-becf35d35d83"
      },
      "source": [
        "plt.plot(range(epouch), val_acc)\n",
        "plt.xlabel(\"Epochs\")\n",
        "plt.ylabel(\"Validation Accuracy\")\n",
        "plt.title(\"Validation Accuracy\")\n",
        "plt.show()"
      ],
      "execution_count": 14,
      "outputs": [
        {
          "output_type": "display_data",
          "data": {
            "image/png": "[encoded data removed]",
            "text/plain": [
              "<Figure size 432x288 with 1 Axes>"
            ]
          },
          "metadata": {
            "tags": []
          }
        }
      ]
    },
    {
      "cell_type": "code",
      "metadata": {
        "id": "5icf5PjNAe1C",
        "colab_type": "code",
        "colab": {
          "base_uri": "https://localhost:8080/",
          "height": 35
        },
        "outputId": "c21fe0a8-4125-4768-9c92-3c7cff98d11f"
      },
      "source": [
        "print(\"Validation Accuracy: \", max(val_acc))"
      ],
      "execution_count": 15,
      "outputs": [
        {
          "output_type": "stream",
          "text": [
            "Validation Accuracy:  0.99366665\n"
          ],
          "name": "stdout"
        }
      ]
    },
    {
      "cell_type": "code",
      "metadata": {
        "id": "r3LxZFWnAhHD",
        "colab_type": "code",
        "colab": {
          "base_uri": "https://localhost:8080/",
          "height": 35
        },
        "outputId": "1d678fab-7199-4c8a-d730-db39a443b732"
      },
      "source": [
        "results = model.evaluate(x_test_normalized, y_test_one_hot)"
      ],
      "execution_count": 16,
      "outputs": [
        {
          "output_type": "stream",
          "text": [
            "10000/10000 [==============================] - 2s 160us/sample - loss: 0.0228 - acc: 0.9936\n"
          ],
          "name": "stdout"
        }
      ]
    }
  ]
}